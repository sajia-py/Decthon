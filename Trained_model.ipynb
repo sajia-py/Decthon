{
 "cells": [
  {
   "cell_type": "code",
   "execution_count": 2,
   "metadata": {},
   "outputs": [
    {
     "name": "stdout",
     "output_type": "stream",
     "text": [
      "Validation Accuracy: 0.8737623762376238\n"
     ]
    }
   ],
   "source": [
    "import pandas as pd\n",
    "import numpy as np\n",
    "from sklearn.model_selection import train_test_split\n",
    "from sklearn.ensemble import RandomForestClassifier\n",
    "from sklearn.preprocessing import LabelEncoder\n",
    "from sklearn.impute import SimpleImputer\n",
    "from sklearn.metrics import accuracy_score\n",
    "\n",
    "# Load the datasets\n",
    "train_df = pd.read_csv(\"participants_training_dataset.csv\")\n",
    "test_df = pd.read_csv(\"participants_test_dataset.csv\")\n",
    "\n",
    "# Drop 'User_Key' column and separate target variable\n",
    "X = train_df.drop([\"User_Key\", \"Next_Purchase\"], axis=1)\n",
    "y = train_df[\"Next_Purchase\"]\n",
    "test_user_keys = test_df[\"User_Key\"]\n",
    "X_test = test_df.drop([\"User_Key\"], axis=1)\n",
    "\n",
    "# Handle missing numerical values with mean imputation\n",
    "num_cols = X.select_dtypes(include=['int64', 'float64']).columns\n",
    "imputer = SimpleImputer(strategy=\"mean\")\n",
    "X[num_cols] = imputer.fit_transform(X[num_cols])\n",
    "X_test[num_cols] = imputer.transform(X_test[num_cols])\n",
    "\n",
    "# Handle categorical variables with Label Encoding\n",
    "for col in X.select_dtypes(include=['object']).columns:\n",
    "    X[col] = X[col].astype(str).fillna(\"Unknown\")\n",
    "    X_test[col] = X_test[col].astype(str).fillna(\"Unknown\")\n",
    "    \n",
    "    le = LabelEncoder()\n",
    "    X[col] = le.fit_transform(X[col])  # Fit on train data\n",
    "    \n",
    "    # Ensure test set doesn't break due to unseen categories\n",
    "    le_classes = np.append(le.classes_, \"Unknown\")  # Add unknown category\n",
    "    le.classes_ = le_classes\n",
    "    X_test[col] = X_test[col].apply(lambda x: le.transform([x])[0] if x in le.classes_ else -1)\n",
    "\n",
    "# Split into train and validation sets\n",
    "X_train, X_val, y_train, y_val = train_test_split(X, y, test_size=0.2, random_state=42)\n",
    "\n",
    "# Train the model\n",
    "model = RandomForestClassifier(n_estimators=100, random_state=42)\n",
    "model.fit(X_train, y_train)\n",
    "\n",
    "# Validate the model\n",
    "y_pred = model.predict(X_val)\n",
    "print(\"Validation Accuracy:\", accuracy_score(y_val, y_pred))\n",
    "\n",
    "# Predict on test dataset\n",
    "y_test_pred = model.predict(X_test)\n",
    "\n",
    "# Create Submission File\n",
    "#submission = pd.DataFrame({\"User_Key\": test_user_keys, \"Next_Purchase\": y_test_pred})\n",
    "#submission.to_csv(\"submission.csv\", index=False)\n",
    "#print(\"Submission file saved as 'submission.csv'\")\n"
   ]
  }
 ],
 "metadata": {
  "kernelspec": {
   "display_name": "Python 3",
   "language": "python",
   "name": "python3"
  },
  "language_info": {
   "codemirror_mode": {
    "name": "ipython",
    "version": 3
   },
   "file_extension": ".py",
   "mimetype": "text/x-python",
   "name": "python",
   "nbconvert_exporter": "python",
   "pygments_lexer": "ipython3",
   "version": "3.12.0"
  }
 },
 "nbformat": 4,
 "nbformat_minor": 2
}
